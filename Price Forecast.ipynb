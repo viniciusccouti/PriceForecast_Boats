{
 "cells": [
  {
   "cell_type": "markdown",
   "id": "5b401a4b",
   "metadata": {},
   "source": [
    "# Data Science Project - Price Forecast\n",
    "\n",
    "- The main goal of this exercise is to be able to forecast boat prices that will be sold based in its features such as: year, size, kind of the boat,new or used and material that will be used\n",
    "\n",
    "- Data base: https://drive.google.com/drive/folders/1o2lpxoi9heyQV1hIlsHXWSfDkBPtze-V?usp=share_link"
   ]
  },
  {
   "cell_type": "markdown",
   "id": "ef64b6d5",
   "metadata": {},
   "source": [
    "### Data Science Project - Step by Step \n",
    "\n",
    "- Step 1: Understanding of the Project's goal\n",
    "        \n",
    "- Step 2: Understanding of the Business and the company\n",
    "    - Forecast of a boat based in its features\n",
    "- Step 3: Extracting data\n",
    "- Step 4: Data processing\n",
    "- Step 5: Exploratory Analysis\n",
    "- Step 6: Modeling + Algorithms\n",
    "- Step 7: Results Analysis"
   ]
  },
  {
   "cell_type": "markdown",
   "id": "2e085b35",
   "metadata": {},
   "source": [
    "![title](tabelas.png)"
   ]
  },
  {
   "cell_type": "code",
   "execution_count": 1,
   "id": "f4a968fb",
   "metadata": {},
   "outputs": [
    {
     "data": {
      "text/html": [
       "<div>\n",
       "<style scoped>\n",
       "    .dataframe tbody tr th:only-of-type {\n",
       "        vertical-align: middle;\n",
       "    }\n",
       "\n",
       "    .dataframe tbody tr th {\n",
       "        vertical-align: top;\n",
       "    }\n",
       "\n",
       "    .dataframe thead th {\n",
       "        text-align: right;\n",
       "    }\n",
       "</style>\n",
       "<table border=\"1\" class=\"dataframe\">\n",
       "  <thead>\n",
       "    <tr style=\"text-align: right;\">\n",
       "      <th></th>\n",
       "      <th>Preco</th>\n",
       "      <th>TipoBarco</th>\n",
       "      <th>TipoVenda</th>\n",
       "      <th>Ano</th>\n",
       "      <th>Comprimento</th>\n",
       "      <th>Largura</th>\n",
       "      <th>Material</th>\n",
       "    </tr>\n",
       "  </thead>\n",
       "  <tbody>\n",
       "    <tr>\n",
       "      <th>0</th>\n",
       "      <td>3490</td>\n",
       "      <td>1</td>\n",
       "      <td>1</td>\n",
       "      <td>2020</td>\n",
       "      <td>4.00</td>\n",
       "      <td>1.50</td>\n",
       "      <td>1</td>\n",
       "    </tr>\n",
       "    <tr>\n",
       "      <th>1</th>\n",
       "      <td>3399</td>\n",
       "      <td>2</td>\n",
       "      <td>1</td>\n",
       "      <td>2019</td>\n",
       "      <td>3.55</td>\n",
       "      <td>1.46</td>\n",
       "      <td>2</td>\n",
       "    </tr>\n",
       "    <tr>\n",
       "      <th>2</th>\n",
       "      <td>3600</td>\n",
       "      <td>3</td>\n",
       "      <td>2</td>\n",
       "      <td>1999</td>\n",
       "      <td>6.20</td>\n",
       "      <td>2.38</td>\n",
       "      <td>2</td>\n",
       "    </tr>\n",
       "    <tr>\n",
       "      <th>3</th>\n",
       "      <td>3500</td>\n",
       "      <td>2</td>\n",
       "      <td>2</td>\n",
       "      <td>1987</td>\n",
       "      <td>4.35</td>\n",
       "      <td>1.75</td>\n",
       "      <td>3</td>\n",
       "    </tr>\n",
       "    <tr>\n",
       "      <th>4</th>\n",
       "      <td>3500</td>\n",
       "      <td>4</td>\n",
       "      <td>2</td>\n",
       "      <td>2004</td>\n",
       "      <td>4.70</td>\n",
       "      <td>2.00</td>\n",
       "      <td>3</td>\n",
       "    </tr>\n",
       "    <tr>\n",
       "      <th>...</th>\n",
       "      <td>...</td>\n",
       "      <td>...</td>\n",
       "      <td>...</td>\n",
       "      <td>...</td>\n",
       "      <td>...</td>\n",
       "      <td>...</td>\n",
       "      <td>...</td>\n",
       "    </tr>\n",
       "    <tr>\n",
       "      <th>7644</th>\n",
       "      <td>5000</td>\n",
       "      <td>7</td>\n",
       "      <td>2</td>\n",
       "      <td>1974</td>\n",
       "      <td>7.20</td>\n",
       "      <td>2.70</td>\n",
       "      <td>3</td>\n",
       "    </tr>\n",
       "    <tr>\n",
       "      <th>7645</th>\n",
       "      <td>4999</td>\n",
       "      <td>4</td>\n",
       "      <td>2</td>\n",
       "      <td>1980</td>\n",
       "      <td>6.00</td>\n",
       "      <td>2.10</td>\n",
       "      <td>3</td>\n",
       "    </tr>\n",
       "    <tr>\n",
       "      <th>7646</th>\n",
       "      <td>4950</td>\n",
       "      <td>2</td>\n",
       "      <td>2</td>\n",
       "      <td>1984</td>\n",
       "      <td>6.00</td>\n",
       "      <td>1.62</td>\n",
       "      <td>5</td>\n",
       "    </tr>\n",
       "    <tr>\n",
       "      <th>7647</th>\n",
       "      <td>4499</td>\n",
       "      <td>4</td>\n",
       "      <td>1</td>\n",
       "      <td>2020</td>\n",
       "      <td>4.40</td>\n",
       "      <td>1.80</td>\n",
       "      <td>3</td>\n",
       "    </tr>\n",
       "    <tr>\n",
       "      <th>7648</th>\n",
       "      <td>3780</td>\n",
       "      <td>2</td>\n",
       "      <td>1</td>\n",
       "      <td>2019</td>\n",
       "      <td>3.60</td>\n",
       "      <td>1.60</td>\n",
       "      <td>3</td>\n",
       "    </tr>\n",
       "  </tbody>\n",
       "</table>\n",
       "<p>7649 rows × 7 columns</p>\n",
       "</div>"
      ],
      "text/plain": [
       "      Preco  TipoBarco  TipoVenda   Ano  Comprimento  Largura  Material\n",
       "0      3490          1          1  2020         4.00     1.50         1\n",
       "1      3399          2          1  2019         3.55     1.46         2\n",
       "2      3600          3          2  1999         6.20     2.38         2\n",
       "3      3500          2          2  1987         4.35     1.75         3\n",
       "4      3500          4          2  2004         4.70     2.00         3\n",
       "...     ...        ...        ...   ...          ...      ...       ...\n",
       "7644   5000          7          2  1974         7.20     2.70         3\n",
       "7645   4999          4          2  1980         6.00     2.10         3\n",
       "7646   4950          2          2  1984         6.00     1.62         5\n",
       "7647   4499          4          1  2020         4.40     1.80         3\n",
       "7648   3780          2          1  2019         3.60     1.60         3\n",
       "\n",
       "[7649 rows x 7 columns]"
      ]
     },
     "metadata": {},
     "output_type": "display_data"
    }
   ],
   "source": [
    "# Step 1: Understanding of the Project's goal\n",
    "        \n",
    "# Step 2: Understanding of the Business and the company\n",
    "    # Forecast of a boat based in its features\n",
    "# Step 3: Extracting data\n",
    "import pandas as pd\n",
    "\n",
    "table = pd.read_csv(\"barcos_ref.csv\") #since the code file and this file are in the same folder you don't have to insert the whole path here\n",
    "display(table)"
   ]
  },
  {
   "cell_type": "code",
   "execution_count": 2,
   "id": "afbdc437",
   "metadata": {},
   "outputs": [
    {
     "name": "stdout",
     "output_type": "stream",
     "text": [
      "<class 'pandas.core.frame.DataFrame'>\n",
      "RangeIndex: 7649 entries, 0 to 7648\n",
      "Data columns (total 7 columns):\n",
      " #   Column       Non-Null Count  Dtype  \n",
      "---  ------       --------------  -----  \n",
      " 0   Preco        7649 non-null   int64  \n",
      " 1   TipoBarco    7649 non-null   int64  \n",
      " 2   TipoVenda    7649 non-null   int64  \n",
      " 3   Ano          7649 non-null   int64  \n",
      " 4   Comprimento  7649 non-null   float64\n",
      " 5   Largura      7649 non-null   float64\n",
      " 6   Material     7649 non-null   int64  \n",
      "dtypes: float64(2), int64(5)\n",
      "memory usage: 418.4 KB\n",
      "None\n"
     ]
    }
   ],
   "source": [
    "# Step 4: Data processing\n",
    "print(table.info())"
   ]
  },
  {
   "cell_type": "code",
   "execution_count": 7,
   "id": "1ad276ee",
   "metadata": {},
   "outputs": [
    {
     "data": {
      "text/html": [
       "<div>\n",
       "<style scoped>\n",
       "    .dataframe tbody tr th:only-of-type {\n",
       "        vertical-align: middle;\n",
       "    }\n",
       "\n",
       "    .dataframe tbody tr th {\n",
       "        vertical-align: top;\n",
       "    }\n",
       "\n",
       "    .dataframe thead th {\n",
       "        text-align: right;\n",
       "    }\n",
       "</style>\n",
       "<table border=\"1\" class=\"dataframe\">\n",
       "  <thead>\n",
       "    <tr style=\"text-align: right;\">\n",
       "      <th></th>\n",
       "      <th>Preco</th>\n",
       "    </tr>\n",
       "  </thead>\n",
       "  <tbody>\n",
       "    <tr>\n",
       "      <th>Preco</th>\n",
       "      <td>1.000000</td>\n",
       "    </tr>\n",
       "    <tr>\n",
       "      <th>TipoBarco</th>\n",
       "      <td>0.293137</td>\n",
       "    </tr>\n",
       "    <tr>\n",
       "      <th>TipoVenda</th>\n",
       "      <td>0.041266</td>\n",
       "    </tr>\n",
       "    <tr>\n",
       "      <th>Ano</th>\n",
       "      <td>0.113385</td>\n",
       "    </tr>\n",
       "    <tr>\n",
       "      <th>Comprimento</th>\n",
       "      <td>0.578353</td>\n",
       "    </tr>\n",
       "    <tr>\n",
       "      <th>Largura</th>\n",
       "      <td>0.557621</td>\n",
       "    </tr>\n",
       "    <tr>\n",
       "      <th>Material</th>\n",
       "      <td>-0.036476</td>\n",
       "    </tr>\n",
       "  </tbody>\n",
       "</table>\n",
       "</div>"
      ],
      "text/plain": [
       "                Preco\n",
       "Preco        1.000000\n",
       "TipoBarco    0.293137\n",
       "TipoVenda    0.041266\n",
       "Ano          0.113385\n",
       "Comprimento  0.578353\n",
       "Largura      0.557621\n",
       "Material    -0.036476"
      ]
     },
     "metadata": {},
     "output_type": "display_data"
    },
    {
     "data": {
      "image/png": "[encoded data removed]",
      "text/plain": [
       "<Figure size 432x288 with 2 Axes>"
      ]
     },
     "metadata": {
      "needs_background": "light"
     },
     "output_type": "display_data"
    }
   ],
   "source": [
    "# Step 5: Exploratory Analysis\n",
    "correl = table.corr()[['Preco']]\n",
    "display(correl)\n",
    "\n",
    "import seaborn as sns\n",
    "import matplotlib.pyplot as plt\n",
    "\n",
    "#create graphic\n",
    "sns.heatmap(correl, cmap='Blues', annot=True)\n",
    "#show graphich\n",
    "plt.show()"
   ]
  },
  {
   "cell_type": "code",
   "execution_count": 9,
   "id": "d9bbc9b3",
   "metadata": {},
   "outputs": [],
   "source": [
    "# Step 6: Modeling + Algorithms\n",
    "    #split base in x and y\n",
    "    \n",
    "y = table['Preco']\n",
    "x = table.drop('Preco', axis=1)\n",
    "\n",
    "#train test split\n",
    "from sklearn.model_selection import train_test_split\n",
    "\n",
    "x_train, x_test, y_train, y_test = train_test_split(x,y, test_size=0.3)"
   ]
  },
  {
   "cell_type": "code",
   "execution_count": 12,
   "id": "50f579c8",
   "metadata": {},
   "outputs": [
    {
     "data": {
      "text/plain": [
       "RandomForestRegressor()"
      ]
     },
     "execution_count": 12,
     "metadata": {},
     "output_type": "execute_result"
    }
   ],
   "source": [
    "#import artificial intelligence\n",
    "#linear regression and decision tree\n",
    "from sklearn.linear_model import LinearRegression\n",
    "from sklearn.ensemble import RandomForestRegressor\n",
    "\n",
    "#creation of artificial intelligence\n",
    "model_linearregression = LinearRegression()\n",
    "model_randomforest = RandomForestRegressor()\n",
    "\n",
    "#train artificial intelligence\n",
    "model_linearregression.fit(x_train, y_train)\n",
    "model_randomforest.fit(x_train,y_train)"
   ]
  },
  {
   "cell_type": "code",
   "execution_count": 15,
   "id": "8144393b",
   "metadata": {},
   "outputs": [
    {
     "name": "stdout",
     "output_type": "stream",
     "text": [
      "0.4372781415347261\n",
      "0.8392567006345896\n"
     ]
    }
   ],
   "source": [
    "# Step 7: Results Analysis\n",
    "\n",
    "# choose best model -> R²\n",
    "from sklearn.metrics import r2_score\n",
    "\n",
    "forecast_linearregression = model_linearregression.predict(x_test)\n",
    "forecast_randomforest = model_randomforest.predict(x_test)\n",
    "\n",
    "print(r2_score(y_test,forecast_linearregression))\n",
    "print(r2_score(y_test,forecast_randomforest))\n",
    "\n"
   ]
  },
  {
   "cell_type": "code",
   "execution_count": 17,
   "id": "a12db14b",
   "metadata": {},
   "outputs": [
    {
     "data": {
      "image/png": "[encoded data removed]",
      "text/plain": [
       "<Figure size 432x288 with 1 Axes>"
      ]
     },
     "metadata": {
      "needs_background": "light"
     },
     "output_type": "display_data"
    }
   ],
   "source": [
    "# show forecasts\n",
    "aux_table = pd.DataFrame()\n",
    "aux_table['y_teste'] = y_test\n",
    "aux_table['RandomFores'] = forecast_randomforest\n",
    "aux_table['LinearReg'] = forecast_linearregression\n",
    "\n",
    "\n",
    "sns.lineplot(data=aux_table)\n",
    "plt.show()"
   ]
  },
  {
   "cell_type": "code",
   "execution_count": 19,
   "id": "56f91f40",
   "metadata": {},
   "outputs": [
    {
     "data": {
      "text/html": [
       "<div>\n",
       "<style scoped>\n",
       "    .dataframe tbody tr th:only-of-type {\n",
       "        vertical-align: middle;\n",
       "    }\n",
       "\n",
       "    .dataframe tbody tr th {\n",
       "        vertical-align: top;\n",
       "    }\n",
       "\n",
       "    .dataframe thead th {\n",
       "        text-align: right;\n",
       "    }\n",
       "</style>\n",
       "<table border=\"1\" class=\"dataframe\">\n",
       "  <thead>\n",
       "    <tr style=\"text-align: right;\">\n",
       "      <th></th>\n",
       "      <th>TipoBarco</th>\n",
       "      <th>TipoVenda</th>\n",
       "      <th>Ano</th>\n",
       "      <th>Comprimento</th>\n",
       "      <th>Largura</th>\n",
       "      <th>Material</th>\n",
       "    </tr>\n",
       "  </thead>\n",
       "  <tbody>\n",
       "    <tr>\n",
       "      <th>0</th>\n",
       "      <td>2</td>\n",
       "      <td>3</td>\n",
       "      <td>2023</td>\n",
       "      <td>3.0</td>\n",
       "      <td>1.5</td>\n",
       "      <td>1</td>\n",
       "    </tr>\n",
       "    <tr>\n",
       "      <th>1</th>\n",
       "      <td>2</td>\n",
       "      <td>1</td>\n",
       "      <td>2023</td>\n",
       "      <td>3.8</td>\n",
       "      <td>1.9</td>\n",
       "      <td>2</td>\n",
       "    </tr>\n",
       "    <tr>\n",
       "      <th>2</th>\n",
       "      <td>3</td>\n",
       "      <td>2</td>\n",
       "      <td>1999</td>\n",
       "      <td>6.2</td>\n",
       "      <td>3.0</td>\n",
       "      <td>2</td>\n",
       "    </tr>\n",
       "  </tbody>\n",
       "</table>\n",
       "</div>"
      ],
      "text/plain": [
       "   TipoBarco  TipoVenda   Ano  Comprimento  Largura  Material\n",
       "0          2          3  2023          3.0      1.5         1\n",
       "1          2          1  2023          3.8      1.9         2\n",
       "2          3          2  1999          6.2      3.0         2"
      ]
     },
     "metadata": {},
     "output_type": "display_data"
    },
    {
     "name": "stdout",
     "output_type": "stream",
     "text": [
      "[ 7963.75519048 12522.75       20428.85      ]\n"
     ]
    }
   ],
   "source": [
    "# new forecasts with artificial intelligence\n",
    "new_table = pd.read_csv('novos_barcos.csv') #new boats that need prices\n",
    "display(new_table)\n",
    "\n",
    "forecast = model_randomforest.predict(new_table)\n",
    "print(forecast)"
   ]
  }
 ],
 "metadata": {
  "kernelspec": {
   "display_name": "Python 3 (ipykernel)",
   "language": "python",
   "name": "python3"
  },
  "language_info": {
   "codemirror_mode": {
    "name": "ipython",
    "version": 3
   },
   "file_extension": ".py",
   "mimetype": "text/x-python",
   "name": "python",
   "nbconvert_exporter": "python",
   "pygments_lexer": "ipython3",
   "version": "3.9.7"
  }
 },
 "nbformat": 4,
 "nbformat_minor": 5
}
